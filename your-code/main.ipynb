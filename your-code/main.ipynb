{
 "cells": [
  {
   "cell_type": "markdown",
   "metadata": {},
   "source": [
    "# Intrduction to NumPy\n",
    "\n",
    "\n",
    "#### 1. Import NumPy under the name np."
   ]
  },
  {
   "cell_type": "code",
   "execution_count": 1,
   "metadata": {},
   "outputs": [],
   "source": [
    "# your code here\n",
    "import numpy as np"
   ]
  },
  {
   "cell_type": "markdown",
   "metadata": {},
   "source": [
    "#### 2. Print your NumPy version."
   ]
  },
  {
   "cell_type": "code",
   "execution_count": 5,
   "metadata": {},
   "outputs": [
    {
     "data": {
      "text/plain": [
       "'1.18.2'"
      ]
     },
     "execution_count": 5,
     "metadata": {},
     "output_type": "execute_result"
    }
   ],
   "source": [
    "# your code here\n",
    "np.version.version\n"
   ]
  },
  {
   "cell_type": "markdown",
   "metadata": {},
   "source": [
    "#### 3. Generate a 2x3x5 3-dimensional array with random values. Assign the array to variable *a*.\n",
    "**Challenge**: there are at least three easy ways that use numpy to generate random arrays. How many ways can you find?"
   ]
  },
  {
   "cell_type": "code",
   "execution_count": 11,
   "metadata": {},
   "outputs": [
    {
     "data": {
      "text/plain": [
       "array([[[0.53025372, 0.39713833, 0.78556679, 0.86473263, 0.25814984],\n",
       "        [0.61933412, 0.49252692, 0.52979463, 0.04088719, 0.75612528],\n",
       "        [0.2322721 , 0.31796904, 0.67717351, 0.25663319, 0.02938353]],\n",
       "\n",
       "       [[0.47063929, 0.8438977 , 0.33730576, 0.14231009, 0.25464963],\n",
       "        [0.78646847, 0.40577788, 0.50993247, 0.97044582, 0.86686306],\n",
       "        [0.30347533, 0.34863527, 0.35939234, 0.31482385, 0.83348872]]])"
      ]
     },
     "execution_count": 11,
     "metadata": {},
     "output_type": "execute_result"
    }
   ],
   "source": [
    "# Method 1\n",
    "np.random.rand(2,3,5)"
   ]
  },
  {
   "cell_type": "code",
   "execution_count": 13,
   "metadata": {},
   "outputs": [
    {
     "data": {
      "text/plain": [
       "array([[[0.00829716, 0.467657  , 0.39372901, 0.49939767, 0.38715249],\n",
       "        [0.08709621, 0.62179008, 0.9216888 , 0.33105443, 0.05735558],\n",
       "        [0.6890846 , 0.20634718, 0.31664233, 0.53460097, 0.58251958]],\n",
       "\n",
       "       [[0.13884931, 0.00891777, 0.91112327, 0.87636962, 0.39079577],\n",
       "        [0.77210841, 0.64943639, 0.16692754, 0.04888227, 0.376453  ],\n",
       "        [0.96792706, 0.44728051, 0.50858694, 0.6325177 , 0.95521276]]])"
      ]
     },
     "execution_count": 13,
     "metadata": {},
     "output_type": "execute_result"
    }
   ],
   "source": [
    "# Method 2\n",
    "np.random.random((2,3,5))"
   ]
  },
  {
   "cell_type": "code",
   "execution_count": 14,
   "metadata": {},
   "outputs": [],
   "source": [
    "# Method 3\n",
    "a = np.random.randint(0, 9, (2,3,5))"
   ]
  },
  {
   "cell_type": "markdown",
   "metadata": {},
   "source": [
    "#### 4. Print *a*.\n"
   ]
  },
  {
   "cell_type": "code",
   "execution_count": 15,
   "metadata": {},
   "outputs": [
    {
     "data": {
      "text/plain": [
       "array([[[4, 0, 7, 5, 7],\n",
       "        [8, 6, 8, 2, 5],\n",
       "        [3, 2, 3, 1, 5]],\n",
       "\n",
       "       [[1, 6, 8, 3, 7],\n",
       "        [0, 4, 4, 7, 8],\n",
       "        [5, 6, 4, 5, 5]]])"
      ]
     },
     "execution_count": 15,
     "metadata": {},
     "output_type": "execute_result"
    }
   ],
   "source": [
    "# your code here\n",
    "a"
   ]
  },
  {
   "cell_type": "markdown",
   "metadata": {},
   "source": [
    "#### 5. Create a 5x2x3 3-dimensional array with all values equaling 1. Assign the array to variable *b*."
   ]
  },
  {
   "cell_type": "code",
   "execution_count": 26,
   "metadata": {},
   "outputs": [],
   "source": [
    "# your code here\n",
    "b = np.ones((5,2,3))"
   ]
  },
  {
   "cell_type": "markdown",
   "metadata": {},
   "source": [
    "#### 6. Print *b*.\n"
   ]
  },
  {
   "cell_type": "code",
   "execution_count": 27,
   "metadata": {},
   "outputs": [
    {
     "data": {
      "text/plain": [
       "array([[[1., 1., 1.],\n",
       "        [1., 1., 1.]],\n",
       "\n",
       "       [[1., 1., 1.],\n",
       "        [1., 1., 1.]],\n",
       "\n",
       "       [[1., 1., 1.],\n",
       "        [1., 1., 1.]],\n",
       "\n",
       "       [[1., 1., 1.],\n",
       "        [1., 1., 1.]],\n",
       "\n",
       "       [[1., 1., 1.],\n",
       "        [1., 1., 1.]]])"
      ]
     },
     "execution_count": 27,
     "metadata": {},
     "output_type": "execute_result"
    }
   ],
   "source": [
    "# your code here\n",
    "b"
   ]
  },
  {
   "cell_type": "markdown",
   "metadata": {},
   "source": [
    "#### 7. Do *a* and *b* have the same size? How do you prove that in Python code?"
   ]
  },
  {
   "cell_type": "code",
   "execution_count": 35,
   "metadata": {},
   "outputs": [
    {
     "name": "stdout",
     "output_type": "stream",
     "text": [
      "The size of a is: 30\n",
      "The size of b is: 30\n",
      "We can observe that both arrays contain the same size\n"
     ]
    }
   ],
   "source": [
    "# your code here\n",
    "print(f\"The size of a is: {a.size}\")\n",
    "print(f\"The size of b is: {b.size}\")\n",
    "\n",
    "if a.size == b.size:\n",
    "    print(\"We can observe that both arrays contain the same size\")\n",
    "else:\n",
    "    print(\"We can't prove anything dude :/\")"
   ]
  },
  {
   "cell_type": "markdown",
   "metadata": {},
   "source": [
    "#### 8. Are you able to add *a* and *b*? Why or why not?\n"
   ]
  },
  {
   "cell_type": "code",
   "execution_count": 39,
   "metadata": {},
   "outputs": [
    {
     "ename": "ValueError",
     "evalue": "operands could not be broadcast together with shapes (2,3,5) (5,2,3) ",
     "output_type": "error",
     "traceback": [
      "\u001b[0;31m---------------------------------------------------------------------------\u001b[0m",
      "\u001b[0;31mValueError\u001b[0m                                Traceback (most recent call last)",
      "\u001b[0;32m<ipython-input-39-4fc5a7ab9141>\u001b[0m in \u001b[0;36m<module>\u001b[0;34m\u001b[0m\n\u001b[1;32m      1\u001b[0m \u001b[0;31m# your answer here\u001b[0m\u001b[0;34m\u001b[0m\u001b[0;34m\u001b[0m\u001b[0;34m\u001b[0m\u001b[0m\n\u001b[0;32m----> 2\u001b[0;31m \u001b[0ma\u001b[0m\u001b[0;34m+\u001b[0m\u001b[0mb\u001b[0m\u001b[0;34m\u001b[0m\u001b[0;34m\u001b[0m\u001b[0m\n\u001b[0m\u001b[1;32m      3\u001b[0m \u001b[0;34m\u001b[0m\u001b[0m\n\u001b[1;32m      4\u001b[0m \u001b[0;31m# We can't add two arrays completly different in their shapes, to be able to add both need to fit in shape\u001b[0m\u001b[0;34m\u001b[0m\u001b[0;34m\u001b[0m\u001b[0;34m\u001b[0m\u001b[0m\n",
      "\u001b[0;31mValueError\u001b[0m: operands could not be broadcast together with shapes (2,3,5) (5,2,3) "
     ]
    }
   ],
   "source": [
    "# your answer here\n",
    "a+b\n",
    "\n",
    "# We can't add two arrays completly different in their shapes, to be able to add both need to fit in shape"
   ]
  },
  {
   "cell_type": "markdown",
   "metadata": {},
   "source": [
    "#### 9. Transpose *b* so that it has the same structure of *a* (i.e. become a 2x3x5 array). Assign the transposed array to variable *c*."
   ]
  },
  {
   "cell_type": "code",
   "execution_count": 42,
   "metadata": {},
   "outputs": [
    {
     "data": {
      "text/plain": [
       "array([[[1., 1., 1., 1., 1.],\n",
       "        [1., 1., 1., 1., 1.],\n",
       "        [1., 1., 1., 1., 1.]],\n",
       "\n",
       "       [[1., 1., 1., 1., 1.],\n",
       "        [1., 1., 1., 1., 1.],\n",
       "        [1., 1., 1., 1., 1.]]])"
      ]
     },
     "execution_count": 42,
     "metadata": {},
     "output_type": "execute_result"
    }
   ],
   "source": [
    "# your code here\n",
    "c = b.reshape((2,3,5))\n",
    "c"
   ]
  },
  {
   "cell_type": "markdown",
   "metadata": {},
   "source": [
    "#### 10. Try to add *a* and *c*. Now it should work. Assign the sum to variable *d*. But why does it work now?"
   ]
  },
  {
   "cell_type": "code",
   "execution_count": 44,
   "metadata": {},
   "outputs": [
    {
     "data": {
      "text/plain": [
       "array([[[5., 1., 8., 6., 8.],\n",
       "        [9., 7., 9., 3., 6.],\n",
       "        [4., 3., 4., 2., 6.]],\n",
       "\n",
       "       [[2., 7., 9., 4., 8.],\n",
       "        [1., 5., 5., 8., 9.],\n",
       "        [6., 7., 5., 6., 6.]]])"
      ]
     },
     "execution_count": 44,
     "metadata": {},
     "output_type": "execute_result"
    }
   ],
   "source": [
    "# your code/answer here\n",
    "d = a+c\n",
    "d\n",
    "\n",
    "# Now it works because both arrays contain the same shapes"
   ]
  },
  {
   "cell_type": "markdown",
   "metadata": {},
   "source": [
    "#### 11. Print *a* and *d*. Notice the difference and relation of the two array in terms of the values? Explain."
   ]
  },
  {
   "cell_type": "code",
   "execution_count": 49,
   "metadata": {},
   "outputs": [
    {
     "name": "stdout",
     "output_type": "stream",
     "text": [
      "[[[4 0 7 5 7]\n",
      "  [8 6 8 2 5]\n",
      "  [3 2 3 1 5]]\n",
      "\n",
      " [[1 6 8 3 7]\n",
      "  [0 4 4 7 8]\n",
      "  [5 6 4 5 5]]]\n",
      "-------------------------\n",
      "[[[5. 1. 8. 6. 8.]\n",
      "  [9. 7. 9. 3. 6.]\n",
      "  [4. 3. 4. 2. 6.]]\n",
      "\n",
      " [[2. 7. 9. 4. 8.]\n",
      "  [1. 5. 5. 8. 9.]\n",
      "  [6. 7. 5. 6. 6.]]]\n"
     ]
    }
   ],
   "source": [
    "# your code/answer here\n",
    "print(a)\n",
    "print(\"-\"*25)\n",
    "print(d)"
   ]
  },
  {
   "cell_type": "markdown",
   "metadata": {},
   "source": [
    "#### 12. Multiply *a* and *c*. Assign the result to *e*."
   ]
  },
  {
   "cell_type": "code",
   "execution_count": 50,
   "metadata": {},
   "outputs": [
    {
     "data": {
      "text/plain": [
       "array([[[4., 0., 7., 5., 7.],\n",
       "        [8., 6., 8., 2., 5.],\n",
       "        [3., 2., 3., 1., 5.]],\n",
       "\n",
       "       [[1., 6., 8., 3., 7.],\n",
       "        [0., 4., 4., 7., 8.],\n",
       "        [5., 6., 4., 5., 5.]]])"
      ]
     },
     "execution_count": 50,
     "metadata": {},
     "output_type": "execute_result"
    }
   ],
   "source": [
    "# your code here\n",
    "e = a*c\n",
    "e"
   ]
  },
  {
   "cell_type": "markdown",
   "metadata": {},
   "source": [
    "#### 13. Does *e* equal to *a*? Why or why not?\n"
   ]
  },
  {
   "cell_type": "code",
   "execution_count": 57,
   "metadata": {},
   "outputs": [
    {
     "name": "stdout",
     "output_type": "stream",
     "text": [
      "The size of a is: 30\n",
      "The size of b is: 30\n",
      "[[[ True  True  True  True  True]\n",
      "  [ True  True  True  True  True]\n",
      "  [ True  True  True  True  True]]\n",
      "\n",
      " [[ True  True  True  True  True]\n",
      "  [ True  True  True  True  True]\n",
      "  [ True  True  True  True  True]]]\n",
      "\n",
      "We can observe that both arrays contain the same size and the same content inside\n"
     ]
    }
   ],
   "source": [
    "# your code/answer here\n",
    "print(f\"The size of a is: {a.size}\")\n",
    "print(f\"The size of b is: {e.size}\")\n",
    "print(f\"{a == e}\")\n",
    "\n",
    "if a.size == e.size and a.all() == e.all():\n",
    "    print(\"\\nWe can observe that both arrays contain the same size and the same content inside\")\n",
    "else:\n",
    "    print(\"We can't prove anything dude :/\")"
   ]
  },
  {
   "cell_type": "markdown",
   "metadata": {},
   "source": [
    "#### 14. Identify the max, min, and mean values in *d*. Assign those values to variables *d_max*, *d_min* and *d_mean*."
   ]
  },
  {
   "cell_type": "code",
   "execution_count": 64,
   "metadata": {},
   "outputs": [
    {
     "name": "stdout",
     "output_type": "stream",
     "text": [
      "The max is: 9.0\n",
      "The min is: 1.0\n",
      "The mean is: 5.633333333333334\n"
     ]
    }
   ],
   "source": [
    "# your code here\n",
    "d_max = d.max()\n",
    "d_min = d.min()\n",
    "d_mean = d.mean()\n",
    "\n",
    "print(f\"The max is: {d_max}\")\n",
    "print(f\"The min is: {d_min}\")\n",
    "print(f\"The mean is: {d_mean}\")"
   ]
  },
  {
   "cell_type": "markdown",
   "metadata": {},
   "source": [
    "#### 15. Now we want to label the values in *d*. First create an empty array *f* with the same shape (i.e. 2x3x5) as *d* using `np.empty`.\n"
   ]
  },
  {
   "cell_type": "code",
   "execution_count": 68,
   "metadata": {},
   "outputs": [
    {
     "data": {
      "text/plain": [
       "array([[[4617315517961601024, 4607182418800017408, 4620693217682128896,\n",
       "         4618441417868443648, 4620693217682128896],\n",
       "        [4621256167635550208, 4619567317775286272, 4621256167635550208,\n",
       "         4613937818241073152, 4618441417868443648],\n",
       "        [4616189618054758400, 4613937818241073152, 4616189618054758400,\n",
       "         4611686018427387904, 4618441417868443648]],\n",
       "\n",
       "       [[4611686018427387904, 4619567317775286272, 4621256167635550208,\n",
       "         4616189618054758400, 4620693217682128896],\n",
       "        [4607182418800017408, 4617315517961601024, 4617315517961601024,\n",
       "         4620693217682128896, 4621256167635550208],\n",
       "        [4618441417868443648, 4619567317775286272, 4617315517961601024,\n",
       "         4618441417868443648, 4618441417868443648]]])"
      ]
     },
     "execution_count": 68,
     "metadata": {},
     "output_type": "execute_result"
    }
   ],
   "source": [
    "# your code here\n",
    "f = np.empty((2,3,5), np.int64)\n",
    "f"
   ]
  },
  {
   "cell_type": "markdown",
   "metadata": {},
   "source": [
    "#### 16. Populate the values in *f*. \n",
    "\n",
    "For each value in *d*, if it's larger than *d_min* but smaller than *d_mean*, assign 25 to the corresponding value in *f*. If a value in *d* is larger than *d_mean* but smaller than *d_max*, assign 75 to the corresponding value in *f*. If a value equals to *d_mean*, assign 50 to the corresponding value in *f*. Assign 0 to the corresponding value(s) in *f* for *d_min* in *d*. Assign 100 to the corresponding value(s) in *f* for *d_max* in *d*. In the end, f should have only the following values: 0, 25, 50, 75, and 100.\n",
    "\n",
    "**Note**: you don't have to use Numpy in this question."
   ]
  },
  {
   "cell_type": "code",
   "execution_count": 70,
   "metadata": {},
   "outputs": [
    {
     "data": {
      "text/plain": [
       "array([[[ 25,   0,  75,  75,  75],\n",
       "        [100,  75, 100,  25,  75],\n",
       "        [ 25,  25,  25,  25,  75]],\n",
       "\n",
       "       [[ 25,  75, 100,  25,  75],\n",
       "        [  0,  25,  25,  75, 100],\n",
       "        [ 75,  75,  25,  75,  75]]])"
      ]
     },
     "execution_count": 70,
     "metadata": {},
     "output_type": "execute_result"
    }
   ],
   "source": [
    "# your code here\n",
    "f = [[[25 if d_min < i < d_mean else \n",
    "    75 if d_mean<i< d_max else 50 \n",
    "    if i == d_mean else 0 if i == d_min else 100 \n",
    "    for i in list1] for list1 in list2] for list2 in d]\n",
    "                \n",
    "f"
   ]
  },
  {
   "cell_type": "markdown",
   "metadata": {},
   "source": [
    "#### 17. Print *d* and *f*. Do you have your expected *f*?\n",
    "For instance, if your *d* is:\n",
    "```python\n",
    "[[[1.85836099, 1.67064465, 1.62576044, 1.40243961, 1.88454931],\n",
    "[1.75354326, 1.69403643, 1.36729252, 1.61415071, 1.12104981],\n",
    "[1.72201435, 1.1862918 , 1.87078449, 1.7726778 , 1.88180042]],\n",
    "[[1.44747908, 1.31673383, 1.02000951, 1.52218947, 1.97066381],\n",
    "[1.79129243, 1.74983003, 1.96028037, 1.85166831, 1.65450881],\n",
    "[1.18068344, 1.9587381 , 1.00656599, 1.93402165, 1.73514584]]]\n",
    "```\n",
    "Your *f* should be:\n",
    "```python\n",
    "[[[ 75.,  75.,  75.,  25.,  75.],\n",
    "[ 75.,  75.,  25.,  25.,  25.],\n",
    "[ 75.,  25.,  75.,  75.,  75.]],\n",
    "[[ 25.,  25.,  25.,  25., 100.],\n",
    "[ 75.,  75.,  75.,  75.,  75.],\n",
    "[ 25.,  75.,   0.,  75.,  75.]]]\n",
    "```"
   ]
  },
  {
   "cell_type": "code",
   "execution_count": 73,
   "metadata": {},
   "outputs": [
    {
     "name": "stdout",
     "output_type": "stream",
     "text": [
      "[[[5. 1. 8. 6. 8.]\n",
      "  [9. 7. 9. 3. 6.]\n",
      "  [4. 3. 4. 2. 6.]]\n",
      "\n",
      " [[2. 7. 9. 4. 8.]\n",
      "  [1. 5. 5. 8. 9.]\n",
      "  [6. 7. 5. 6. 6.]]]\n",
      "-------------------------\n",
      "[[[ 25   0  75  75  75]\n",
      "  [100  75 100  25  75]\n",
      "  [ 25  25  25  25  75]]\n",
      "\n",
      " [[ 25  75 100  25  75]\n",
      "  [  0  25  25  75 100]\n",
      "  [ 75  75  25  75  75]]]\n"
     ]
    }
   ],
   "source": [
    "# your code here\n",
    "print(d)\n",
    "print(\"-\"*25)\n",
    "print(f)"
   ]
  },
  {
   "cell_type": "markdown",
   "metadata": {},
   "source": [
    "#### 18. Bonus question: instead of using numbers (i.e. 0, 25, 50, 75, and 100), use string values  (\"A\", \"B\", \"C\", \"D\", and \"E\") to label the array elements. For the example above, the expected result is:\n",
    "\n",
    "```python\n",
    "[[[ 'D',  'D',  'D',  'B',  'D'],\n",
    "[ 'D',  'D',  'B',  'B',  'B'],\n",
    "[ 'D',  'B',  'D',  'D',  'D']],\n",
    "[[ 'B',  'B',  'B',  'B',  'E'],\n",
    "[ 'D',  'D',  'D',  'D',  'D'],\n",
    "[ 'B',  'D',   'A',  'D', 'D']]]\n",
    "```\n",
    "**Note**: you don't have to use Numpy in this question."
   ]
  },
  {
   "cell_type": "code",
   "execution_count": 77,
   "metadata": {},
   "outputs": [
    {
     "data": {
      "text/plain": [
       "[[['A', 'D', 'D', 'D', 'D'],\n",
       "  ['E', 'D', 'E', 'A', 'D'],\n",
       "  ['A', 'A', 'A', 'A', 'D']],\n",
       " [['A', 'D', 'E', 'A', 'D'],\n",
       "  ['D', 'A', 'A', 'D', 'E'],\n",
       "  ['D', 'D', 'A', 'D', 'D']]]"
      ]
     },
     "execution_count": 77,
     "metadata": {},
     "output_type": "execute_result"
    }
   ],
   "source": [
    "f = [[['A' if d_min < i < d_mean else \n",
    "    'D' if d_mean<i< d_max else 'C' \n",
    "    if i == d_mean else 'D' if i == d_min else 'E' \n",
    "    for i in list1] for list1 in list2] for list2 in d]\n",
    "\n",
    "f"
   ]
  },
  {
   "cell_type": "code",
   "execution_count": null,
   "metadata": {},
   "outputs": [],
   "source": []
  }
 ],
 "metadata": {
  "kernelspec": {
   "display_name": "Python 3",
   "language": "python",
   "name": "python3"
  },
  "language_info": {
   "codemirror_mode": {
    "name": "ipython",
    "version": 3
   },
   "file_extension": ".py",
   "mimetype": "text/x-python",
   "name": "python",
   "nbconvert_exporter": "python",
   "pygments_lexer": "ipython3",
   "version": "3.7.6"
  }
 },
 "nbformat": 4,
 "nbformat_minor": 2
}
